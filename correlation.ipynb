{
 "cells": [
  {
   "cell_type": "code",
   "execution_count": null,
   "metadata": {},
   "outputs": [],
   "source": [
    "import numpy as np\n",
    "import matplotlib.pyplot as plt\n",
    "import matplotlib as mpl\n",
    "import pandas as pd"
   ]
  },
  {
   "cell_type": "code",
   "execution_count": 224,
   "metadata": {},
   "outputs": [],
   "source": [
    "A = np.random.randn(10)\n",
    "B = np.random.randn(10)"
   ]
  },
  {
   "cell_type": "code",
   "execution_count": 225,
   "metadata": {},
   "outputs": [],
   "source": [
    "A = np.sort(A)\n",
    "B = np.sort(B)"
   ]
  },
  {
   "cell_type": "code",
   "execution_count": 226,
   "metadata": {},
   "outputs": [],
   "source": [
    "X = pd.DataFrame({\"A\": A, \"B\": B})"
   ]
  },
  {
   "cell_type": "code",
   "execution_count": 227,
   "metadata": {},
   "outputs": [],
   "source": [
    "X[\"A_mean\"] = X[\"A\"] - X[\"A\"].mean()\n",
    "X[\"B_mean\"] = X[\"B\"] - X[\"B\"].mean()\n",
    "X[\"A_z\"] = X[\"A_mean\"] / X[\"A\"].std(ddof=0)\n",
    "X[\"B_z\"] = X[\"B_mean\"] / X[\"B\"].std(ddof=0)\n",
    "X[\"A_t\"] = X[\"A_z\"] * 10 + 50\n",
    "X[\"B_t\"] = X[\"B_z\"] * 10 + 50"
   ]
  },
  {
   "cell_type": "code",
   "execution_count": 228,
   "metadata": {},
   "outputs": [
    {
     "data": {
      "text/html": [
       "<div>\n",
       "<style scoped>\n",
       "    .dataframe tbody tr th:only-of-type {\n",
       "        vertical-align: middle;\n",
       "    }\n",
       "\n",
       "    .dataframe tbody tr th {\n",
       "        vertical-align: top;\n",
       "    }\n",
       "\n",
       "    .dataframe thead th {\n",
       "        text-align: right;\n",
       "    }\n",
       "</style>\n",
       "<table border=\"1\" class=\"dataframe\">\n",
       "  <thead>\n",
       "    <tr style=\"text-align: right;\">\n",
       "      <th></th>\n",
       "      <th>A</th>\n",
       "      <th>B</th>\n",
       "      <th>A_mean</th>\n",
       "      <th>B_mean</th>\n",
       "      <th>A_z</th>\n",
       "      <th>B_z</th>\n",
       "      <th>A_t</th>\n",
       "      <th>B_t</th>\n",
       "    </tr>\n",
       "  </thead>\n",
       "  <tbody>\n",
       "    <tr>\n",
       "      <th>0</th>\n",
       "      <td>-1.915690</td>\n",
       "      <td>-2.376960</td>\n",
       "      <td>-1.432849</td>\n",
       "      <td>-2.352339</td>\n",
       "      <td>-1.713615</td>\n",
       "      <td>-1.881716</td>\n",
       "      <td>32.863855</td>\n",
       "      <td>31.182843</td>\n",
       "    </tr>\n",
       "    <tr>\n",
       "      <th>1</th>\n",
       "      <td>-1.506384</td>\n",
       "      <td>-1.347542</td>\n",
       "      <td>-1.023542</td>\n",
       "      <td>-1.322921</td>\n",
       "      <td>-1.224105</td>\n",
       "      <td>-1.058249</td>\n",
       "      <td>37.758952</td>\n",
       "      <td>39.417507</td>\n",
       "    </tr>\n",
       "    <tr>\n",
       "      <th>2</th>\n",
       "      <td>-1.258570</td>\n",
       "      <td>-1.034211</td>\n",
       "      <td>-0.775729</td>\n",
       "      <td>-1.009590</td>\n",
       "      <td>-0.927732</td>\n",
       "      <td>-0.807605</td>\n",
       "      <td>40.722679</td>\n",
       "      <td>41.923948</td>\n",
       "    </tr>\n",
       "    <tr>\n",
       "      <th>3</th>\n",
       "      <td>-0.610766</td>\n",
       "      <td>-0.611543</td>\n",
       "      <td>-0.127925</td>\n",
       "      <td>-0.586923</td>\n",
       "      <td>-0.152992</td>\n",
       "      <td>-0.469499</td>\n",
       "      <td>48.470084</td>\n",
       "      <td>45.305008</td>\n",
       "    </tr>\n",
       "    <tr>\n",
       "      <th>4</th>\n",
       "      <td>-0.461769</td>\n",
       "      <td>-0.131995</td>\n",
       "      <td>0.021072</td>\n",
       "      <td>-0.107375</td>\n",
       "      <td>0.025201</td>\n",
       "      <td>-0.085893</td>\n",
       "      <td>50.252013</td>\n",
       "      <td>49.141075</td>\n",
       "    </tr>\n",
       "    <tr>\n",
       "      <th>5</th>\n",
       "      <td>-0.249433</td>\n",
       "      <td>0.309059</td>\n",
       "      <td>0.233408</td>\n",
       "      <td>0.333680</td>\n",
       "      <td>0.279145</td>\n",
       "      <td>0.266922</td>\n",
       "      <td>52.791447</td>\n",
       "      <td>52.669218</td>\n",
       "    </tr>\n",
       "    <tr>\n",
       "      <th>6</th>\n",
       "      <td>-0.112690</td>\n",
       "      <td>0.831891</td>\n",
       "      <td>0.370152</td>\n",
       "      <td>0.856511</td>\n",
       "      <td>0.442683</td>\n",
       "      <td>0.685153</td>\n",
       "      <td>54.426829</td>\n",
       "      <td>56.851525</td>\n",
       "    </tr>\n",
       "    <tr>\n",
       "      <th>7</th>\n",
       "      <td>-0.004168</td>\n",
       "      <td>0.946198</td>\n",
       "      <td>0.478673</td>\n",
       "      <td>0.970819</td>\n",
       "      <td>0.572469</td>\n",
       "      <td>0.776591</td>\n",
       "      <td>55.724692</td>\n",
       "      <td>57.765907</td>\n",
       "    </tr>\n",
       "    <tr>\n",
       "      <th>8</th>\n",
       "      <td>0.254853</td>\n",
       "      <td>1.545470</td>\n",
       "      <td>0.737695</td>\n",
       "      <td>1.570091</td>\n",
       "      <td>0.882246</td>\n",
       "      <td>1.255969</td>\n",
       "      <td>58.822457</td>\n",
       "      <td>62.559691</td>\n",
       "    </tr>\n",
       "    <tr>\n",
       "      <th>9</th>\n",
       "      <td>1.036202</td>\n",
       "      <td>1.623425</td>\n",
       "      <td>1.519044</td>\n",
       "      <td>1.648046</td>\n",
       "      <td>1.816699</td>\n",
       "      <td>1.318328</td>\n",
       "      <td>68.166992</td>\n",
       "      <td>63.183279</td>\n",
       "    </tr>\n",
       "  </tbody>\n",
       "</table>\n",
       "</div>"
      ],
      "text/plain": [
       "          A         B    A_mean    B_mean       A_z       B_z        A_t  \\\n",
       "0 -1.915690 -2.376960 -1.432849 -2.352339 -1.713615 -1.881716  32.863855   \n",
       "1 -1.506384 -1.347542 -1.023542 -1.322921 -1.224105 -1.058249  37.758952   \n",
       "2 -1.258570 -1.034211 -0.775729 -1.009590 -0.927732 -0.807605  40.722679   \n",
       "3 -0.610766 -0.611543 -0.127925 -0.586923 -0.152992 -0.469499  48.470084   \n",
       "4 -0.461769 -0.131995  0.021072 -0.107375  0.025201 -0.085893  50.252013   \n",
       "5 -0.249433  0.309059  0.233408  0.333680  0.279145  0.266922  52.791447   \n",
       "6 -0.112690  0.831891  0.370152  0.856511  0.442683  0.685153  54.426829   \n",
       "7 -0.004168  0.946198  0.478673  0.970819  0.572469  0.776591  55.724692   \n",
       "8  0.254853  1.545470  0.737695  1.570091  0.882246  1.255969  58.822457   \n",
       "9  1.036202  1.623425  1.519044  1.648046  1.816699  1.318328  68.166992   \n",
       "\n",
       "         B_t  \n",
       "0  31.182843  \n",
       "1  39.417507  \n",
       "2  41.923948  \n",
       "3  45.305008  \n",
       "4  49.141075  \n",
       "5  52.669218  \n",
       "6  56.851525  \n",
       "7  57.765907  \n",
       "8  62.559691  \n",
       "9  63.183279  "
      ]
     },
     "execution_count": 228,
     "metadata": {},
     "output_type": "execute_result"
    }
   ],
   "source": [
    "X"
   ]
  },
  {
   "cell_type": "code",
   "execution_count": 229,
   "metadata": {},
   "outputs": [
    {
     "data": {
      "image/png": "[encoded data removed]",
      "text/plain": [
       "<Figure size 432x288 with 1 Axes>"
      ]
     },
     "metadata": {
      "needs_background": "light"
     },
     "output_type": "display_data"
    }
   ],
   "source": [
    "ax = X.plot.scatter(x = \"A\", y = \"B\", alpha=0.5)\n",
    "#X.plot.scatter(x = \"A_mean\", y = \"B_mean\",marker='s', c='r', s=50, alpha=0.5, ax=ax)"
   ]
  },
  {
   "cell_type": "code",
   "execution_count": 230,
   "metadata": {},
   "outputs": [
    {
     "data": {
      "text/plain": [
       "0.9664317473713894"
      ]
     },
     "execution_count": 230,
     "metadata": {},
     "output_type": "execute_result"
    }
   ],
   "source": [
    "X.corr().iloc[0,1]"
   ]
  },
  {
   "cell_type": "code",
   "execution_count": 231,
   "metadata": {},
   "outputs": [
    {
     "data": {
      "text/plain": [
       "0.9664317473713891"
      ]
     },
     "execution_count": 231,
     "metadata": {},
     "output_type": "execute_result"
    }
   ],
   "source": [
    "np.dot(X[\"A_mean\"], X[\"B_mean\"]) / (np.linalg.norm(X[\"A_mean\"]) * np.linalg.norm(X[\"B_mean\"]))"
   ]
  },
  {
   "cell_type": "code",
   "execution_count": 232,
   "metadata": {},
   "outputs": [
    {
     "data": {
      "text/plain": [
       "0.9664317473713891"
      ]
     },
     "execution_count": 232,
     "metadata": {},
     "output_type": "execute_result"
    }
   ],
   "source": [
    "np.dot(X[\"A_z\"], X[\"B_z\"]) / X.shape[0]"
   ]
  },
  {
   "cell_type": "code",
   "execution_count": 233,
   "metadata": {},
   "outputs": [
    {
     "data": {
      "text/plain": [
       "0.9664317473713891"
      ]
     },
     "execution_count": 233,
     "metadata": {},
     "output_type": "execute_result"
    }
   ],
   "source": [
    "np.dot((X[\"A_t\"] - 50)/10, (X[\"B_t\"] - 50)/10) / X.shape[0]"
   ]
  },
  {
   "cell_type": "code",
   "execution_count": null,
   "metadata": {},
   "outputs": [],
   "source": []
  },
  {
   "cell_type": "markdown",
   "metadata": {},
   "source": [
    "$$\\frac{\\frac{1}{n}\\sum_{i=1}^{n}(x_{i}-\\bar{x})(y_{i}-\\bar{y})}{\\sqrt{\\frac{1}{n}\\sum_{i=1}^{n}(x_{i}-\\bar{x})^{2}}\\sqrt{\\frac{1}{n}\\sum_{i=1}^{n}(y_{i}-\\bar{y})^{2}}}$$"
   ]
  },
  {
   "cell_type": "markdown",
   "metadata": {},
   "source": [
    "$$\\sum_{i=1}^{n}\\frac{(x_{i}-\\bar{x})}{\\sqrt{\\sum_{i=1}^{n}(x_{i}-\\bar{x})^{2}}}\\frac{(y_{i}-\\bar{y})}{\\sqrt{\\sum_{i=1}^{n}(y_{i}-\\bar{y})^{2}}}$$"
   ]
  },
  {
   "cell_type": "markdown",
   "metadata": {},
   "source": [
    "$$\\sum_{i=1}^{n}\\frac{(x_{i}-\\bar{x})}{std(x)}\\frac{(y_{i}-\\bar{y})}{std(y)}$$"
   ]
  }
 ],
 "metadata": {
  "kernelspec": {
   "display_name": "Python 3.9.7 ('torchvision')",
   "language": "python",
   "name": "python3"
  },
  "language_info": {
   "codemirror_mode": {
    "name": "ipython",
    "version": 3
   },
   "file_extension": ".py",
   "mimetype": "text/x-python",
   "name": "python",
   "nbconvert_exporter": "python",
   "pygments_lexer": "ipython3",
   "version": "3.9.7"
  },
  "orig_nbformat": 4,
  "vscode": {
   "interpreter": {
    "hash": "76f9ea262c387d788fc94cf0203e9171f37017825f5743258f46bc9511098ba9"
   }
  }
 },
 "nbformat": 4,
 "nbformat_minor": 2
}
